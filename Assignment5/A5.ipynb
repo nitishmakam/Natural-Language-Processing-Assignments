{
 "cells": [
  {
   "cell_type": "markdown",
   "metadata": {},
   "source": [
    "# Assignment 5\n",
    "\n",
    "Natural Language Processing\n",
    "\n",
    "UE15CS333\n",
    "\n",
    "Nitish J Makam\n",
    "\n",
    "01FB15ECS197\n",
    "\n",
    "PES UNIVERSITY\n"
   ]
  },
  {
   "cell_type": "code",
   "execution_count": 20,
   "metadata": {},
   "outputs": [],
   "source": [
    "import pandas as pd\n",
    "import nltk\n",
    "import numpy as np\n",
    "from sklearn.feature_extraction.text import TfidfVectorizer\n",
    "from sklearn.model_selection import train_test_split\n",
    "from sklearn.metrics import confusion_matrix, classification_report\n",
    "from sklearn.metrics import roc_auc_score, roc_curve\n",
    "from sklearn.metrics import confusion_matrix\n",
    "from sklearn.model_selection import cross_val_score\n",
    "from sklearn.decomposition import TruncatedSVD\n",
    "from sklearn import svm\n",
    "from sklearn import metrics\n",
    "from nltk.corpus import stopwords\n",
    "import matplotlib.pyplot as plt\n",
    "from nltk.stem.porter import PorterStemmer\n",
    "stopwords=set(stopwords.words('english'))"
   ]
  },
  {
   "cell_type": "code",
   "execution_count": 2,
   "metadata": {},
   "outputs": [],
   "source": [
    "#Importing the review dataset\n",
    "dataset=pd.read_csv(\"dataset.csv\")\n",
    "\n",
    "#Dropping from the dataset all unnecessary columns\n",
    "dataset=dataset.drop('review_id',axis=1)\n",
    "dataset=dataset.drop('business_id',axis=1)\n",
    "dataset=dataset.drop('date',axis=1)\n",
    "dataset=dataset.drop('user_id',axis=1)\n",
    "dataset=dataset.drop('type',axis=1)\n",
    "dataset=dataset.drop('cool',axis=1)\n",
    "dataset=dataset.drop('useful',axis=1)\n",
    "dataset=dataset.drop('funny',axis=1)"
   ]
  },
  {
   "cell_type": "code",
   "execution_count": 3,
   "metadata": {},
   "outputs": [],
   "source": [
    "#Preprocessing the Stars column of the dataset\n",
    "for i in range(dataset.shape[0]):\n",
    "        if(int(dataset.iat[i,0])<=3):\n",
    "            dataset.iat[i,0]=0\n",
    "        else:\n",
    "            dataset.iat[i,0]=1\n",
    "#Function to tokenize text and include only the meaningful tokens\n",
    "def convertIntoTokens(text):\n",
    "    words2=nltk.pos_tag(nltk.word_tokenize(text))\n",
    "    words=[]\n",
    "    for word,tag in words2:\n",
    "        if(word.isalpha() and not word in stopwords and (tag.startswith('NN') or tag.startswith('JJ') or tag.startswith('VB'))):\n",
    "            words.append(word)\n",
    "    return words"
   ]
  },
  {
   "cell_type": "code",
   "execution_count": 4,
   "metadata": {},
   "outputs": [],
   "source": [
    "#Tokenizing each review\n",
    "for i in range(dataset.shape[0]):\n",
    "    text=dataset.loc[i,'text']\n",
    "    dataset.at[i,'text']=convertIntoTokens(text)\n",
    "#print(dataset)"
   ]
  },
  {
   "cell_type": "code",
   "execution_count": 5,
   "metadata": {},
   "outputs": [],
   "source": [
    "corpus=[]\n",
    "for i in range(dataset.shape[0]):\n",
    "    corpus.append(\" \".join(list(dataset.loc[i,'text'])))"
   ]
  },
  {
   "cell_type": "code",
   "execution_count": 23,
   "metadata": {},
   "outputs": [],
   "source": [
    "#PART 1\n",
    "#TF-IDF \n",
    "vectorizer = TfidfVectorizer(min_df=2)\n",
    "X=vectorizer.fit_transform(corpus)\n",
    "y=dataset['stars']\n",
    "X_train, X_test, y_train, y_test = train_test_split(X, y, test_size=0.25, random_state=42)\n",
    "model1=svm.SVC(kernel='linear',C=1)\n",
    "model1.fit(X_test,y_test)\n",
    "scores=cross_val_score(model1,X_train,y_train,cv=10)\n",
    "y_predicted=model1.predict(X_test)"
   ]
  },
  {
   "cell_type": "markdown",
   "metadata": {},
   "source": [
    "#### CASE 1\n"
   ]
  },
  {
   "cell_type": "code",
   "execution_count": 19,
   "metadata": {},
   "outputs": [
    {
     "name": "stdout",
     "output_type": "stream",
     "text": [
      "\n",
      "Mean accuracy is 0.819599224888\n",
      "\n",
      "Standard deviation of accuracy is 0.0091175177841\n",
      "\n",
      "Confusion Matrix\n",
      " [[ 687   89]\n",
      " [   9 1715]]\n",
      "\n",
      " Classification Report\n",
      "             precision    recall  f1-score   support\n",
      "\n",
      "          0       0.99      0.89      0.93       776\n",
      "          1       0.95      0.99      0.97      1724\n",
      "\n",
      "avg / total       0.96      0.96      0.96      2500\n",
      "\n"
     ]
    },
    {
     "data": {
      "image/png": "[encoded data removed]",
      "text/plain": [
       "<matplotlib.figure.Figure at 0x7fe4a15ff2e8>"
      ]
     },
     "metadata": {},
     "output_type": "display_data"
    }
   ],
   "source": [
    "#print(metrics.accuracy_score(y_predicted,y_test))\n",
    "#print(metrics.classification_report(y_predicted,y_test,labels=[0,1]))\n",
    "print(\"\\nMean accuracy is\",np.mean(scores))\n",
    "print(\"\\nStandard deviation of accuracy is\",np.std(scores))\n",
    "cm1=confusion_matrix(y_test,y_predicted)\n",
    "print(\"\\nConfusion Matrix\\n\",cm1)\n",
    "print(\"\\n Classification Report\")\n",
    "print(classification_report(y_test,y_predicted))\n",
    "fpr, tpr, threshold = roc_curve(y_test, y_predicted)\n",
    "roc_auc=roc_auc_score(y_test, y_predicted)\n",
    "plt.title('Receiver Operating Characteristic')\n",
    "plt.plot(fpr, tpr, 'b', label = 'AUC = %0.2f' % roc_auc)\n",
    "plt.legend(loc = 'lower right')\n",
    "plt.plot([0, 1], [0, 1],'r--')\n",
    "plt.xlim([0, 1])\n",
    "plt.ylim([0, 1])\n",
    "plt.ylabel('True Positive Rate')\n",
    "plt.xlabel('False Positive Rate')\n",
    "plt.show()"
   ]
  },
  {
   "cell_type": "markdown",
   "metadata": {},
   "source": [
    "### CASE 2"
   ]
  },
  {
   "cell_type": "code",
   "execution_count": null,
   "metadata": {},
   "outputs": [],
   "source": [
    "svd = TruncatedSVD(n_components=2000, n_iter=7, random_state=42)\n",
    "X= svd.fit_transform(X)\n",
    "print(svd.explained_variance_ratio_.sum()) "
   ]
  },
  {
   "cell_type": "code",
   "execution_count": null,
   "metadata": {},
   "outputs": [],
   "source": []
  }
 ],
 "metadata": {
  "kernelspec": {
   "display_name": "Python 3",
   "language": "python",
   "name": "python3"
  },
  "language_info": {
   "codemirror_mode": {
    "name": "ipython",
    "version": 3
   },
   "file_extension": ".py",
   "mimetype": "text/x-python",
   "name": "python",
   "nbconvert_exporter": "python",
   "pygments_lexer": "ipython3",
   "version": "3.6.3"
  }
 },
 "nbformat": 4,
 "nbformat_minor": 2
}

{
 "cells": [
  {
   "cell_type": "code",
   "execution_count": 1,
   "metadata": {},
   "outputs": [],
   "source": [
    "import pandas as pd\n",
    "import nltk\n",
    "import numpy as np\n",
    "from sklearn.feature_extraction.text import TfidfVectorizer\n",
    "from sklearn.model_selection import train_test_split\n",
    "from sklearn.metrics import confusion_matrix, classification_report\n",
    "from sklearn.metrics import roc_auc_score, roc_curve\n",
    "from sklearn.metrics import confusion_matrix\n",
    "from sklearn.utils import resample\n",
    "from sklearn.model_selection import cross_val_score\n",
    "from sklearn.decomposition import TruncatedSVD\n",
    "from textblob import TextBlob\n",
    "from sklearn import svm\n",
    "from sklearn import metrics\n",
    "from nltk.corpus import stopwords\n",
    "import matplotlib.pyplot as plt\n",
    "from nltk.stem.porter import PorterStemmer\n",
    "stopwords=set(stopwords.words('english'))\n",
    "import gensim\n",
    "from gensim.models import KeyedVectors\n",
    "from gensim.models.keyedvectors import BaseKeyedVectors"
   ]
  },
  {
   "cell_type": "code",
   "execution_count": 2,
   "metadata": {},
   "outputs": [],
   "source": [
    "#Importing the review dataset\n",
    "dataset=pd.read_csv(\"dataset.csv\")\n",
    "\n",
    "#Dropping from the dataset all unnecessary columns\n",
    "dataset=dataset.drop('review_id',axis=1)\n",
    "dataset=dataset.drop('business_id',axis=1)\n",
    "dataset=dataset.drop('date',axis=1)\n",
    "dataset=dataset.drop('user_id',axis=1)\n",
    "dataset=dataset.drop('type',axis=1)\n",
    "dataset=dataset.drop('cool',axis=1)\n",
    "dataset=dataset.drop('useful',axis=1)\n",
    "dataset=dataset.drop('funny',axis=1)\n",
    "\n",
    "#Preprocessing the Stars column of the dataset\n",
    "for i in range(dataset.shape[0]):\n",
    "        if(int(dataset.iat[i,0])<=3):\n",
    "            dataset.iat[i,0]=0\n",
    "        else:\n",
    "            dataset.iat[i,0]=1\n",
    "uniquewords=[]          \n",
    "# sentences=dataset['text'].tolist()\n",
    "dataset_minority=dataset[dataset.stars==0]\n",
    "dataset_majority=dataset[dataset.stars==1]\n",
    "dataset_minority=resample(dataset_minority,replace=True,n_samples=dataset_majority.shape[0],random_state=42)\n",
    "dataset=pd.concat([dataset_minority,dataset_majority])\n",
    "dataset=dataset.reset_index(drop=True)\n",
    "# sentences=[]\n",
    "# for i in range(dataset.shape[0]):\n",
    "#     text=str(dataset.loc[i,'text'])\n",
    "#     t=nltk.sent_tokenize(text)\n",
    "#     for j in t:\n",
    "#         sentences.append(j)\n",
    "#Function to tokenize text and include only the meaningful tokens\n",
    "def convertIntoTokens(text):\n",
    "    #POS tagging the tokens\n",
    "    tokenizedwords=nltk.word_tokenize(text)\n",
    "    global uniquewords\n",
    "    uniquewords+=tokenizedwords\n",
    "    words2=nltk.pos_tag(tokenizedwords)\n",
    "    words=[]\n",
    "    for word,tag in words2:\n",
    "        #Taking only content words - nouns,verbs, adverbs and adjectives\n",
    "        if(word.isalpha() and not word in stopwords and (tag.startswith('NN') or tag.startswith('JJ') or tag.startswith('VB'))):\n",
    "            words.append(word)\n",
    "    return words\n",
    "#Tokenizing each review\n",
    "for i in range(dataset.shape[0]):\n",
    "    text=str(dataset.loc[i,'text'])\n",
    "    dataset.at[i,'text']=convertIntoTokens(text)"
   ]
  },
  {
   "cell_type": "code",
   "execution_count": 18,
   "metadata": {},
   "outputs": [],
   "source": [
    "model = gensim.models.Word2Vec([uniquewords], window=3, size=50, min_count=1, workers=4)\n",
    "# model=model.toarray()\n",
    "y=dataset['stars']"
   ]
  },
  {
   "cell_type": "code",
   "execution_count": 20,
   "metadata": {},
   "outputs": [
    {
     "name": "stderr",
     "output_type": "stream",
     "text": [
      "/usr/lib/python3/dist-packages/ipykernel_launcher.py:7: DeprecationWarning: Call to deprecated `__getitem__` (Method will be removed in 4.0.0, use self.wv.__getitem__() instead).\n",
      "  import sys\n"
     ]
    }
   ],
   "source": [
    "gensimdataframe=pd.DataFrame(columns=['stars','vector'],index=range(dataset.shape[0]))\n",
    "gensimdataframe['stars']=dataset['stars']\n",
    "for i in range(dataset.shape[0]):\n",
    "    gensimdataframe.at[i,'vector']=[0.0]*50\n",
    "    text=dataset.loc[i,'text']\n",
    "    for contentword in text:\n",
    "        gensimdataframe.at[i,'vector']+=model[contentword]"
   ]
  },
  {
   "cell_type": "code",
   "execution_count": 22,
   "metadata": {},
   "outputs": [],
   "source": [
    "gensimdataframe=gensimdataframe['vector'].apply(pd.Series)\n",
    "gensimdataframe.reset_index()"
   ]
  },
  {
   "cell_type": "code",
   "execution_count": 33,
   "metadata": {},
   "outputs": [],
   "source": [
    "#Test-Train Split\n",
    "X_train5, X_test5, y_train5, y_test5 = train_test_split(gensimdataframe,y, test_size=0.25, random_state=42)\n",
    "#Support Vector Machines\n",
    "model5=svm.SVC(kernel='linear',C=1)\n",
    "#Training the model\n",
    "model5.fit(X_train5,y_train5)\n",
    "#Cross validation k=10\n",
    "scores5=cross_val_score(model5,X_train5,y_train5,cv=10)\n",
    "#Predictions\n",
    "y_predicted5=model5.predict(X_test5)"
   ]
  },
  {
   "cell_type": "code",
   "execution_count": 34,
   "metadata": {},
   "outputs": [
    {
     "name": "stdout",
     "output_type": "stream",
     "text": [
      "\n",
      "Mean accuracy is 0.5758691288730476\n",
      "\n",
      "Standard deviation of accuracy is 0.009527124370105031\n",
      "\n",
      "Confusion Matrix\n",
      " [[ 625 1113]\n",
      " [ 363 1331]]\n",
      "\n",
      " Classification Report\n",
      "             precision    recall  f1-score   support\n",
      "\n",
      "          0       0.63      0.36      0.46      1738\n",
      "          1       0.54      0.79      0.64      1694\n",
      "\n",
      "avg / total       0.59      0.57      0.55      3432\n",
      "\n"
     ]
    },
    {
     "data": {
      "image/png": "[encoded data removed]",
      "text/plain": [
       "<matplotlib.figure.Figure at 0x7f11b38dd3c8>"
      ]
     },
     "metadata": {},
     "output_type": "display_data"
    }
   ],
   "source": [
    "#Mean accuracy\n",
    "print(\"\\nMean accuracy is\",np.mean(scores5))\n",
    "#Standard deviation of accuracy\n",
    "print(\"\\nStandard deviation of accuracy is\",np.std(scores5))\n",
    "cm5=confusion_matrix(y_test5,y_predicted5)\n",
    "print(\"\\nConfusion Matrix\\n\",cm5)\n",
    "print(\"\\n Classification Report\")\n",
    "print(classification_report(y_test5,y_predicted5))\n",
    "fpr, tpr, threshold = roc_curve(y_test5, y_predicted5)\n",
    "roc_auc=roc_auc_score(y_test5, y_predicted5)\n",
    "plt.title('Receiver Operating Characteristic')\n",
    "plt.plot(fpr, tpr, 'b', label = 'AUC = %0.3f' % roc_auc)\n",
    "plt.legend(loc = 'lower right')\n",
    "plt.plot([0, 1], [0, 1],'r--')\n",
    "plt.xlim([0, 1])\n",
    "plt.ylim([0, 1])\n",
    "plt.ylabel('True Positive Rate')\n",
    "plt.xlabel('False Positive Rate')\n",
    "plt.show()"
   ]
  },
  {
   "cell_type": "code",
   "execution_count": null,
   "metadata": {},
   "outputs": [],
   "source": []
  }
 ],
 "metadata": {
  "kernelspec": {
   "display_name": "Python 3",
   "language": "python",
   "name": "python3"
  },
  "language_info": {
   "codemirror_mode": {
    "name": "ipython",
    "version": 3
   },
   "file_extension": ".py",
   "mimetype": "text/x-python",
   "name": "python",
   "nbconvert_exporter": "python",
   "pygments_lexer": "ipython3",
   "version": "3.6.3"
  }
 },
 "nbformat": 4,
 "nbformat_minor": 2
}

{
 "cells": [
  {
   "cell_type": "markdown",
   "metadata": {},
   "source": [
    "# Assignment 4\n",
    "\n",
    "Natural Language Processing\n",
    "\n",
    "UE15CS333\n",
    "\n",
    "Nitish J Makam\n",
    "\n",
    "01FB15ECS197\n",
    "\n",
    "PES University"
   ]
  },
  {
   "cell_type": "code",
   "execution_count": 1,
   "metadata": {},
   "outputs": [],
   "source": [
    "import nltk\n",
    "from nltk.corpus import wordnet as wn\n",
    "import pandas as pd\n",
    "from nltk.corpus import stopwords\n",
    "from numpy import dot\n",
    "from numpy.linalg import norm\n",
    "from nltk.corpus import wordnet_ic\n",
    "brown_ic = wordnet_ic.ic('ic-brown.dat')"
   ]
  },
  {
   "cell_type": "code",
   "execution_count": 2,
   "metadata": {},
   "outputs": [],
   "source": [
    "stopwords=set(stopwords.words('english'))\n",
    "sentences=[[\"I like that food.\",\"That dish is exciting.\"],[\"Ram is very nice.\",\"Is Ram very nice?\"],\n",
    "[\"Pure malt whiskey.\",\"Fresh orange juice.\"],\n",
    "[\"It is a dog.\",\"That must be you!\"],\n",
    "[\"It is a cow.\",\"It is a pig.\"],\n",
    "[\"I have a pen.\",\"I am eating a cake.\"],\n",
    "[\"I have an identity\",\"This is my photograph.\"]]"
   ]
  },
  {
   "cell_type": "code",
   "execution_count": 3,
   "metadata": {},
   "outputs": [
    {
     "name": "stdout",
     "output_type": "stream",
     "text": [
      "Using path_similarity\n",
      "The similarity between pair  1 of sentences is  0.188258907292\n",
      "The similarity between pair  2 of sentences is  1.0\n",
      "The similarity between pair  3 of sentences is  0.145401692443\n",
      "The similarity between pair  4 of sentences is  0.178553714909\n",
      "The similarity between pair  5 of sentences is  0.236593059937\n",
      "The similarity between pair  6 of sentences is  0.256824153175\n",
      "The similarity between pair  7 of sentences is  0.158982511924\n"
     ]
    }
   ],
   "source": [
    "print(\"Using path_similarity\")\n",
    "for k in range(len(sentences)):\n",
    "    s1tokens=nltk.word_tokenize(sentences[k][0])\n",
    "    s2tokens=nltk.word_tokenize(sentences[k][1])\n",
    "    s1cw=[]\n",
    "    s2cw=[]\n",
    "    for i in s1tokens:\n",
    "        if i.isalpha() and i.lower() not in stopwords:\n",
    "            s1cw.append(i)\n",
    "    for i in s2tokens:\n",
    "        if i.isalpha() and i.lower() not in stopwords:\n",
    "            s2cw.append(i)\n",
    "    contentwords=s1cw+s2cw\n",
    "    entities=[]\n",
    "    for i in contentwords:\n",
    "        entities.append(wn.synsets(i)[0])\n",
    "    entity_names = [entity.split('.')[0] for entity in contentwords]\n",
    "    similarities = []\n",
    "    for entity in entities:\n",
    "        l=[]\n",
    "        for compared_entity in entities:\n",
    "            j=entity.path_similarity(compared_entity)\n",
    "            if(isinstance(j,float)):\n",
    "                l.append(round(j,2))\n",
    "            else:\n",
    "                l.append(0.0)\n",
    "        similarities.append(l)    \n",
    "        # build pairwise similarity matrix\n",
    "    similarity_frame = pd.DataFrame(similarities,\n",
    "                                    index=entity_names, \n",
    "                                    columns=entity_names)\n",
    "    jointwordset=list(set(s1cw)|set(s2cw))\n",
    "    ssv1=[0 for x in range(len(jointwordset))]\n",
    "    ssv2=[0 for x in range(len(jointwordset))]\n",
    "    for i in range(len(jointwordset)) :\n",
    "        similarity_frame2=similarity_frame.copy()\n",
    "        similarity_frame2.drop(jointwordset[i],axis=1,inplace=True)\n",
    "        if(jointwordset[i] in s1cw):\n",
    "            ssv1[i]=1\n",
    "        else:\n",
    "            ssv1[i]=max(similarity_frame2.loc[jointwordset[i]]) if max(similarity_frame2.loc[jointwordset[i]]) > 0.06 else 0\n",
    "    for i in range(len(jointwordset)):\n",
    "        similarity_frame2=similarity_frame.copy()\n",
    "        similarity_frame2.drop(jointwordset[i],axis=1,inplace=True)\n",
    "        if(jointwordset[i] in s2cw):\n",
    "            ssv2[i]=1\n",
    "        else:\n",
    "            ssv2[i]=max(similarity_frame2.loc[jointwordset[i]]) if max(similarity_frame2.loc[jointwordset[i]]) > 0.06 else 0\n",
    "#     print(ssv1,ssv2)    \n",
    "    print(\"The similarity between pair \",k+1,\"of sentences is \",dot(ssv1, ssv2)/(norm(ssv1)*norm(ssv2)))\n"
   ]
  },
  {
   "cell_type": "code",
   "execution_count": 5,
   "metadata": {},
   "outputs": [
    {
     "name": "stdout",
     "output_type": "stream",
     "text": [
      "Using wup_similarity\n",
      "The similarity between pair  1 of sentences is  0.447160122806\n",
      "The similarity between pair  2 of sentences is  1.0\n",
      "The similarity between pair  3 of sentences is  0.523558990211\n",
      "The similarity between pair  4 of sentences is  0.535005995757\n",
      "The similarity between pair  5 of sentences is  0.9728464996\n",
      "The similarity between pair  6 of sentences is  0.817645213653\n",
      "The similarity between pair  7 of sentences is  0.293398533007\n"
     ]
    }
   ],
   "source": [
    "print(\"Using wup_similarity\")\n",
    "for k in range(len(sentences)):\n",
    "    s1tokens=nltk.word_tokenize(sentences[k][0])\n",
    "    s2tokens=nltk.word_tokenize(sentences[k][1])\n",
    "    s1cw=[]\n",
    "    s2cw=[]\n",
    "    for i in s1tokens:\n",
    "        if i.isalpha() and i.lower() not in stopwords:\n",
    "            s1cw.append(i)\n",
    "    for i in s2tokens:\n",
    "        if i.isalpha() and i.lower() not in stopwords:\n",
    "            s2cw.append(i)\n",
    "    contentwords=s1cw+s2cw\n",
    "    entities=[]\n",
    "    for i in contentwords:\n",
    "        entities.append(wn.synsets(i)[0])\n",
    "    entity_names = [entity.split('.')[0] for entity in contentwords]\n",
    "    similarities = []\n",
    "    for entity in entities:\n",
    "        l=[]\n",
    "        for compared_entity in entities:\n",
    "            j=entity.wup_similarity(compared_entity)\n",
    "            if(isinstance(j,float)):\n",
    "                l.append(round(j,2))\n",
    "            else:\n",
    "                l.append(0.0)\n",
    "        similarities.append(l)    \n",
    "        # build pairwise similarity matrix\n",
    "    similarity_frame = pd.DataFrame(similarities,\n",
    "                                    index=entity_names, \n",
    "                                    columns=entity_names)\n",
    "    jointwordset=list(set(s1cw)|set(s2cw))\n",
    "    ssv1=[0 for x in range(len(jointwordset))]\n",
    "    ssv2=[0 for x in range(len(jointwordset))]\n",
    "    for i in range(len(jointwordset)) :\n",
    "        similarity_frame2=similarity_frame.copy()\n",
    "        similarity_frame2.drop(jointwordset[i],axis=1,inplace=True)\n",
    "        if(jointwordset[i] in s1cw):\n",
    "            ssv1[i]=1\n",
    "        else:\n",
    "            ssv1[i]=max(similarity_frame2.loc[jointwordset[i]]) if max(similarity_frame2.loc[jointwordset[i]]) > 0.06 else 0\n",
    "    for i in range(len(jointwordset)):\n",
    "        similarity_frame2=similarity_frame.copy()\n",
    "        similarity_frame2.drop(jointwordset[i],axis=1,inplace=True)\n",
    "        if(jointwordset[i] in s2cw):\n",
    "            ssv2[i]=1\n",
    "        else:\n",
    "            ssv2[i]=max(similarity_frame2.loc[jointwordset[i]]) if max(similarity_frame2.loc[jointwordset[i]]) > 0.06 else 0\n",
    "#     print(ssv1,ssv2)    \n",
    "    print(\"The similarity between pair \",k+1,\"of sentences is \",dot(ssv1, ssv2)/(norm(ssv1)*norm(ssv2)))"
   ]
  },
  {
   "cell_type": "markdown",
   "metadata": {},
   "source": [
    "The wup_similarity algorithm gave better results and closer to the values given in the question than using path_similarity algorithm."
   ]
  }
 ],
 "metadata": {
  "kernelspec": {
   "display_name": "Python 3",
   "language": "python",
   "name": "python3"
  },
  "language_info": {
   "codemirror_mode": {
    "name": "ipython",
    "version": 3
   },
   "file_extension": ".py",
   "mimetype": "text/x-python",
   "name": "python",
   "nbconvert_exporter": "python",
   "pygments_lexer": "ipython3",
   "version": "3.6.3"
  }
 },
 "nbformat": 4,
 "nbformat_minor": 2
}
